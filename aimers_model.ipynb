{
  "cells": [
    {
      "cell_type": "markdown",
      "source": [
        "function ClickConnect(){\n",
        "console.log(\"Working\");\n",
        "document.querySelector(\"colab-toolbar-button#connect\").click()\n",
        "}setInterval(ClickConnect, 2400000)"
      ],
      "metadata": {
        "id": "kPWDRI_UJF9r"
      },
      "id": "kPWDRI_UJF9r"
    },
    {
      "cell_type": "markdown",
      "id": "f7444f30-0883-4a87-8e00-c5e5591a2a26",
      "metadata": {
        "id": "f7444f30-0883-4a87-8e00-c5e5591a2a26"
      },
      "source": [
        "# Import"
      ]
    },
    {
      "cell_type": "code",
      "execution_count": null,
      "id": "b85832b1-9f31-41e4-b934-cc260e5b3b1d",
      "metadata": {
        "id": "b85832b1-9f31-41e4-b934-cc260e5b3b1d"
      },
      "outputs": [],
      "source": [
        "import random\n",
        "import os\n",
        "import pandas as pd\n",
        "import numpy as np\n",
        "from tqdm.auto import tqdm\n",
        "\n",
        "import torch\n",
        "import torch.nn as nn\n",
        "import torch.optim as optim\n",
        "import torch.nn.functional as F\n",
        "from torch.utils.data import Dataset, DataLoader"
      ]
    },
    {
      "cell_type": "markdown",
      "id": "07c2d47b-e9da-47e5-9155-cce997e63481",
      "metadata": {
        "id": "07c2d47b-e9da-47e5-9155-cce997e63481"
      },
      "source": [
        "# Hyperparameter Setting"
      ]
    },
    {
      "cell_type": "code",
      "execution_count": null,
      "id": "c9f50013-6513-44fd-8e48-06dd12ec3f63",
      "metadata": {
        "id": "c9f50013-6513-44fd-8e48-06dd12ec3f63"
      },
      "outputs": [],
      "source": [
        "device = torch.device('cuda') if torch.cuda.is_available() else torch.device('cpu')\n",
        "\n",
        "CFG = {\n",
        "    'TRAIN_WINDOW_SIZE': 100,\n",
        "    'PREDICT_SIZE': 21,\n",
        "    'EPOCHS': 10,\n",
        "    'LEARNING_RATE': 1e-4,\n",
        "    'BATCH_SIZE': 1024,\n",
        "    'HIDDEN_SIZE': 256,\n",
        "    'SEED': 41,\n",
        "    'data_scaling': 'minmax',  # 'std'\n",
        "    'enc_in':7\n",
        "}"
      ]
    },
    {
      "cell_type": "code",
      "execution_count": null,
      "id": "44cdbe67-eda2-42ef-bc35-0a2bfd99f211",
      "metadata": {
        "id": "44cdbe67-eda2-42ef-bc35-0a2bfd99f211"
      },
      "outputs": [],
      "source": [
        "def seed_everything(seed):\n",
        "    random.seed(seed)\n",
        "    os.environ['PYTHONHASHSEED'] = str(seed)\n",
        "    np.random.seed(seed)\n",
        "    torch.manual_seed(seed)\n",
        "    torch.cuda.manual_seed(seed)\n",
        "    torch.backends.cudnn.deterministic = True\n",
        "    torch.backends.cudnn.benchmark = True\n",
        "\n",
        "seed_everything(CFG['SEED']) # Seed 고정"
      ]
    },
    {
      "cell_type": "markdown",
      "id": "7d68c38e",
      "metadata": {
        "id": "7d68c38e"
      },
      "source": [
        "# data"
      ]
    },
    {
      "cell_type": "markdown",
      "source": [
        "### Load dataset"
      ],
      "metadata": {
        "id": "IhynLwaPwXB1"
      },
      "id": "IhynLwaPwXB1"
    },
    {
      "cell_type": "code",
      "execution_count": null,
      "id": "e3b89389",
      "metadata": {
        "id": "e3b89389"
      },
      "outputs": [],
      "source": [
        "train_data = pd.read_csv('train.csv', encoding='utf-8').drop(columns=['ID', '제품'])\n",
        "price = pd.read_csv('price.csv', encoding='utf-8', index_col=0)\n",
        "b_keyword = pd.read_csv('brand_keyword_cnt.csv', encoding='utf-8')"
      ]
    },
    {
      "cell_type": "markdown",
      "id": "d21e80a6",
      "metadata": {
        "id": "d21e80a6"
      },
      "source": [
        "### Data preprocessing"
      ]
    },
    {
      "cell_type": "code",
      "source": [
        "def data_scaling(df, t=CFG['data_scaling']):\n",
        "    if t=='minmax':\n",
        "        min_v, max_v= df.min(axis=1), df.max(axis=1)\n",
        "        scale_min_dict, scale_max_dict = min_v.to_dict(), max_v.to_dict()\n",
        "        max_sub_min = max_v - min_v\n",
        "        max_sub_min[max_sub_min==0] = 1\n",
        "        data_minmax = df.sub(min_v, axis=0).div(max_sub_min, axis=0)\n",
        "\n",
        "        return data_minmax, scale_min_dict, scale_max_dict\n",
        "    elif t=='std':\n",
        "        mean_v, std_v= df.mean(axis=1), df.std(axis=1)\n",
        "        scale_mean_dict, scale_std_dict = mean_v.to_dict(), std_v.to_dict()\n",
        "\n",
        "        data_std = df.sub(mean_v, axis=0).div(std_v, axis=0).fillna(0)\n",
        "\n",
        "        return data_std, scale_mean_dict, scale_std_dict"
      ],
      "metadata": {
        "id": "xvxm7HUsVXEt"
      },
      "id": "xvxm7HUsVXEt",
      "execution_count": null,
      "outputs": []
    },
    {
      "cell_type": "code",
      "source": [
        "def text2float(data, cat=\"대분류\"):\n",
        "    sales_data = pd.concat([data.loc[:, cat], data.iloc[:, 4:]], axis=1)\n",
        "    if cat in ['대분류', '중분류', '소분류']:\n",
        "        df = sales_data.groupby(cat).sum().mean(axis=1)\n",
        "        df = round((df-df.min())/(df.max()-df.min()), 5)\n",
        "        return {k: df[k] for k in df.index}\n",
        "    else: # cat=='브랜드'\n",
        "        df = data.groupby('브랜드').sum().sum(axis=1)\n",
        "        df_ = [[df.loc[k], k] for k in df.index]\n",
        "        df_ = sorted(df_, key=lambda x: (x[0], x[1]))\n",
        "        return {df_[i][1]: round(1/len(df_)*(i+1), 5) for i in range(len(df_))}"
      ],
      "metadata": {
        "id": "F9Sei57cSuZP"
      },
      "id": "F9Sei57cSuZP",
      "execution_count": null,
      "outputs": []
    },
    {
      "cell_type": "code",
      "source": [
        "# ===== 이상값, 결측치 제거 =====\n",
        "for i in range(len(train_data)):\n",
        "    x, y = np.array(train_data.iloc[i, 4:]), np.array(price.iloc[i, :])\n",
        "    x, y = x[x[:] != 0], y[y[:] != 0]\n",
        "    if x.shape != y.shape:\n",
        "        t = train_data.iloc[i, 4:]\n",
        "        s = price.iloc[i, :]\n",
        "        tmp = list(set(s[s==0].index)-set(t[t==0].index))\n",
        "        train_data.loc[i, tmp] = 0.0\n",
        "\n",
        "b_keyword = b_keyword.fillna(0.0)"
      ],
      "metadata": {
        "id": "DpIVyVr8Oidd"
      },
      "id": "DpIVyVr8Oidd",
      "execution_count": null,
      "outputs": []
    },
    {
      "cell_type": "code",
      "source": [
        "# ===== text label -> float =====\n",
        "cat_L = text2float(train_data, cat='대분류') # 5개\n",
        "train_data['대분류'] = train_data['대분류'].apply(lambda x: cat_L[x])\n",
        "\n",
        "cat_M = text2float(train_data, cat='중분류') # 11개\n",
        "train_data['중분류'] = train_data['중분류'].apply(lambda x: cat_M[x])\n",
        "\n",
        "cat_S = text2float(train_data, cat='소분류') # 53개\n",
        "train_data['소분류'] = train_data['소분류'].apply(lambda x: cat_S[x])\n",
        "\n",
        "cat_B = text2float(train_data, cat='브랜드') # 3170개\n",
        "train_data['브랜드'] = train_data['브랜드'].apply(lambda x: cat_B[x])\n",
        "b_keyword['브랜드'] = b_keyword['브랜드'].apply(lambda x: cat_B[x])"
      ],
      "metadata": {
        "id": "Qh_CVah6MLHb"
      },
      "id": "Qh_CVah6MLHb",
      "execution_count": null,
      "outputs": []
    },
    {
      "cell_type": "code",
      "source": [
        "# ===== data scaling =====\n",
        "train_data.iloc[:, 4:], scale_dict1, scale_dict2 = data_scaling(train_data.iloc[:, 4:])\n",
        "price, _, _ = data_scaling(price)\n",
        "b_keyword.iloc[:, 1:], _, _ = data_scaling(b_keyword.iloc[:, 1:])"
      ],
      "metadata": {
        "id": "lQxVoKYPtJpc"
      },
      "id": "lQxVoKYPtJpc",
      "execution_count": null,
      "outputs": []
    },
    {
      "cell_type": "markdown",
      "source": [
        "### Dataset split"
      ],
      "metadata": {
        "id": "PU4il2v2wydW"
      },
      "id": "PU4il2v2wydW"
    },
    {
      "cell_type": "code",
      "source": [
        "def make_train_data(data, price, brand, train_size=CFG['TRAIN_WINDOW_SIZE'], predict_size=CFG['PREDICT_SIZE'], enc_in=CFG['enc_in']):\n",
        "    num_rows = len(data)\n",
        "    window_size = train_size + predict_size\n",
        "\n",
        "    input_data = np.empty((num_rows * (len(data.columns)- 4 - predict_size), enc_in))\n",
        "    Y = np.empty((num_rows * (len(data.columns)- 4 - window_size + 1), predict_size))\n",
        "\n",
        "    for i in tqdm(range(num_rows)):\n",
        "        encode_info = np.array(data.iloc[i, :4])\n",
        "        price_data = np.array(price.iloc[i, :])\n",
        "        brand = np.array(b_keyword[b_keyword['브랜드'] == train_data['브랜드'][i]].iloc[0, 1:])\n",
        "        sales_data = np.array(data.iloc[i, 4:])\n",
        "\n",
        "        for j in range(len(sales_data)-predict_size):\n",
        "            input_data[i*(len(sales_data)-predict_size)+j] = np.concatenate((encode_info, np.array([price_data[j]]), np.array([brand[j]]), np.array([sales_data[j]])))\n",
        "\n",
        "        for j in range(len(sales_data) - window_size + 1):\n",
        "            window = sales_data[j : j + window_size]\n",
        "            Y[i*(len(sales_data) - window_size + 1) + j] = window[train_size:]\n",
        "\n",
        "    return input_data, Y"
      ],
      "metadata": {
        "id": "7o1ZDO2-A-G-"
      },
      "id": "7o1ZDO2-A-G-",
      "execution_count": null,
      "outputs": []
    },
    {
      "cell_type": "code",
      "source": [
        "def make_predict_data(data, price, brand, train_size=CFG['TRAIN_WINDOW_SIZE'], enc_in=CFG['enc_in']):\n",
        "    num_rows = len(data)\n",
        "\n",
        "    input_data = np.empty((num_rows, train_size, enc_in))\n",
        "\n",
        "    for i in tqdm(range(num_rows)):\n",
        "        encode_info = np.array(data.iloc[i, :4])\n",
        "        price_data = np.array(price.iloc[i, -train_size:])\n",
        "        brand_data = np.array(b_keyword[b_keyword['브랜드'] == train_data['브랜드'][i]].iloc[0, -train_size:])\n",
        "        sales_data = np.array(data.iloc[i, -train_size:])\n",
        "\n",
        "        input_data[i] = np.column_stack((np.tile(encode_info, (train_size, 1)), price_data, brand_data, sales_data))\n",
        "\n",
        "    return input_data"
      ],
      "metadata": {
        "id": "7XA55PxIJxEV"
      },
      "id": "7XA55PxIJxEV",
      "execution_count": null,
      "outputs": []
    },
    {
      "cell_type": "code",
      "source": [
        "train_input, train_target = make_train_data(train_data, price, b_keyword)\n",
        "test_input = make_predict_data(train_data, price, b_keyword)\n",
        "print(train_input.shape, train_target.shape, test_input.shape)"
      ],
      "metadata": {
        "id": "SM3x905l2qW2"
      },
      "id": "SM3x905l2qW2",
      "execution_count": null,
      "outputs": []
    },
    {
      "cell_type": "markdown",
      "id": "3b2f3d76-fcf4-4866-a578-6bb76783bbed",
      "metadata": {
        "id": "3b2f3d76-fcf4-4866-a578-6bb76783bbed"
      },
      "source": [
        "### Custom Dataset"
      ]
    },
    {
      "cell_type": "code",
      "source": [
        "class CustomDataset(Dataset):\n",
        "    def __init__(self, X, Y, train_size=CFG['TRAIN_WINDOW_SIZE'], predict_size=CFG['PREDICT_SIZE']):\n",
        "        self.X = X\n",
        "        self.Y = Y\n",
        "        self.train_size = train_size\n",
        "        self.n1 = 459 - train_size - predict_size + 1\n",
        "        self.n2 = 459 - predict_size\n",
        "\n",
        "    def __getitem__(self, index):\n",
        "        if self.Y is None:\n",
        "            return torch.Tensor(self.X[index])\n",
        "        else:\n",
        "            s = (index//self.n1)*self.n2 + index%self.n1\n",
        "            X_ = self.X[s:s+self.train_size]\n",
        "            return torch.Tensor(X_), torch.Tensor(self.Y[index])\n",
        "\n",
        "    def __len__(self):\n",
        "        if self.Y is None:\n",
        "            return len(self.X)\n",
        "        else:\n",
        "            return len(self.Y)"
      ],
      "metadata": {
        "id": "vEkQuhYBKcW6"
      },
      "id": "vEkQuhYBKcW6",
      "execution_count": null,
      "outputs": []
    },
    {
      "cell_type": "code",
      "source": [
        "dataset = CustomDataset(train_input, train_target)\n",
        "\n",
        "# 전체 데이터셋의 크기\n",
        "total_size = len(dataset)\n",
        "\n",
        "# 분리할 데이터셋의 크기 계산\n",
        "train_size = int(total_size * 0.8)\n",
        "val_size = total_size - train_size"
      ],
      "metadata": {
        "id": "7y7mngEQIVqH"
      },
      "id": "7y7mngEQIVqH",
      "execution_count": null,
      "outputs": []
    },
    {
      "cell_type": "markdown",
      "source": [
        "# Model"
      ],
      "metadata": {
        "id": "0utemueSxdhQ"
      },
      "id": "0utemueSxdhQ"
    },
    {
      "cell_type": "markdown",
      "id": "c63f0b66-817d-49ff-9163-a975fb0f239d",
      "metadata": {
        "id": "c63f0b66-817d-49ff-9163-a975fb0f239d"
      },
      "source": [
        "### LSTM (baseline)"
      ]
    },
    {
      "cell_type": "code",
      "execution_count": null,
      "id": "7927d7ef-e6dd-4ac4-8b89-e3a216c37e5a",
      "metadata": {
        "id": "7927d7ef-e6dd-4ac4-8b89-e3a216c37e5a"
      },
      "outputs": [],
      "source": [
        "class LSTM_Model(nn.Module):\n",
        "    def __init__(self, input_size=CFG['enc_in'], hidden_size=CFG['HIDDEN_SIZE'], output_size=CFG['PREDICT_SIZE'], num_layers=1):\n",
        "        super(LSTM_Model, self).__init__()\n",
        "        self.hidden_size = hidden_size\n",
        "        self.num_layers = num_layers\n",
        "        self.lstm = nn.LSTM(input_size, hidden_size, batch_first=True, num_layers=num_layers)\n",
        "        self.linear = nn.Sequential(\n",
        "            nn.Linear(hidden_size, hidden_size//2),\n",
        "            nn.BatchNorm1d(hidden_size//2),\n",
        "            nn.ReLU(),\n",
        "            nn.Dropout(p=0.2),\n",
        "            nn.Linear(hidden_size//2, hidden_size//4),\n",
        "            nn.Linear(hidden_size//4, output_size),\n",
        "            nn.ReLU()\n",
        "        )\n",
        "\n",
        "    def forward(self, x):\n",
        "        '''\n",
        "        ***** shape *****\n",
        "        x: (b_s, TRAIN_WINDOW_SIZE, enc_in)\n",
        "        lstm_out: (b_s, seq_len, h_s)\n",
        "        hidden: ((num_layers, b_s, h_s), (num_layers, b_s, h_s))\n",
        "        output: (b_s, o_s)\n",
        "        '''\n",
        "\n",
        "        batch_size = x.size(0)\n",
        "        hidden = self.init_hidden(batch_size, x.device)\n",
        "\n",
        "        # LSTM layer\n",
        "        lstm_out, hidden = self.lstm(x, hidden)\n",
        "\n",
        "        # Only use the last output sequence\n",
        "        last_output = lstm_out[:, -1, :]\n",
        "\n",
        "        # Fully connected layer\n",
        "        output = self.linear(last_output)\n",
        "\n",
        "        return output.squeeze(1)  # 차원 1 제거\n",
        "\n",
        "    def init_hidden(self, batch_size, device):\n",
        "        # Initialize hidden state and cell state\n",
        "        return (torch.zeros(self.num_layers, batch_size, self.hidden_size, device=device),\n",
        "                torch.zeros(self.num_layers, batch_size, self.hidden_size, device=device))"
      ]
    },
    {
      "cell_type": "markdown",
      "source": [
        "### GRU"
      ],
      "metadata": {
        "id": "9RrhtIOFJJZK"
      },
      "id": "9RrhtIOFJJZK"
    },
    {
      "cell_type": "code",
      "source": [
        "class GRU_Model(nn.Module):\n",
        "    def __init__(self, input_size=CFG['enc_in'], hidden_size=CFG['HIDDEN_SIZE'], output_size=CFG['PREDICT_SIZE'], num_layers=1):\n",
        "        super(GRU_Model, self).__init__()\n",
        "        self.hidden_size = hidden_size\n",
        "        self.num_layers = num_layers\n",
        "        self.gru = nn.GRU(input_size, hidden_size, batch_first=True, num_layers=num_layers)\n",
        "\n",
        "        # fc layer, batchnorm1d 추가했고, default p=0.5에서 0.2로 변경했습니다.\n",
        "        self.linear = nn.Sequential(\n",
        "            nn.Linear(hidden_size, hidden_size//2),\n",
        "            nn.BatchNorm1d(hidden_size//2),\n",
        "            nn.ReLU(),\n",
        "            nn.Dropout(p=0.2),\n",
        "            nn.Linear(hidden_size//2, hidden_size//4),\n",
        "            nn.BatchNorm1d(hidden_size//4),\n",
        "            nn.ReLU(),\n",
        "            nn.Dropout(p=0.2),\n",
        "            nn.Linear(hidden_size//4, output_size),\n",
        "            nn.ReLU()\n",
        "        )\n",
        "\n",
        "    def forward(self, x):\n",
        "        '''\n",
        "        ***** shape *****\n",
        "        x: (b_s, TRAIN_WINDOW_SIZE, enc_in)\n",
        "        lstm_out: (b_s, seq_len, h_s)\n",
        "        hidden: (num_layers, b_s, h_s)\n",
        "        output: (b_s, o_s)\n",
        "        '''\n",
        "\n",
        "        batch_size = x.size(0)\n",
        "        hidden = self.init_hidden(batch_size, x.device)\n",
        "\n",
        "        # GRU layer\n",
        "        gru_out, hidden = self.gru(x, hidden)\n",
        "\n",
        "        # Only use the last output sequence\n",
        "        last_output = gru_out[:, -1, :]\n",
        "\n",
        "        # Fully connected layer\n",
        "        output = self.linear(last_output)\n",
        "\n",
        "        return output.squeeze(1)  # 차원 1 제거\n",
        "\n",
        "    def init_hidden(self, batch_size, device):\n",
        "        # Initialize hidden state\n",
        "        return torch.zeros(self.num_layers, batch_size, self.hidden_size, device=device)"
      ],
      "metadata": {
        "id": "WTrOvqjz-1R2"
      },
      "id": "WTrOvqjz-1R2",
      "execution_count": null,
      "outputs": []
    },
    {
      "cell_type": "markdown",
      "source": [
        "# Train & Inference"
      ],
      "metadata": {
        "id": "5GadylSpxle_"
      },
      "id": "5GadylSpxle_"
    },
    {
      "cell_type": "markdown",
      "id": "b4f79f7d",
      "metadata": {
        "id": "b4f79f7d"
      },
      "source": [
        "### train & validation"
      ]
    },
    {
      "cell_type": "code",
      "execution_count": null,
      "id": "ff73d757-32d5-4868-afbb-1b9f2ea13826",
      "metadata": {
        "id": "ff73d757-32d5-4868-afbb-1b9f2ea13826"
      },
      "outputs": [],
      "source": [
        "def train(model, optimizer, dataset, device, last_epoch=0):\n",
        "    model.to(device)\n",
        "    criterion = nn.MSELoss().to(device)\n",
        "    best_loss = 9999999\n",
        "    best_model = None\n",
        "    train_losses = []\n",
        "    val_losses = []\n",
        "\n",
        "    for epoch in range(last_epoch+1, last_epoch + CFG['EPOCHS']+1):\n",
        "        # random_split 함수를 사용해 데이터셋 분리\n",
        "        generator = torch.Generator().manual_seed(epoch%CFG['SEED'])\n",
        "        train_dataset, val_dataset = torch.utils.data.random_split(dataset, [train_size, val_size])\n",
        "\n",
        "        # DataLoader 인스턴스 생성\n",
        "        train_loader = DataLoader(train_dataset, batch_size=CFG['BATCH_SIZE'], shuffle=True)\n",
        "        val_loader = DataLoader(val_dataset, batch_size=CFG['BATCH_SIZE'], shuffle=False)\n",
        "\n",
        "        model.train()\n",
        "        train_loss = []\n",
        "        train_mae = []\n",
        "        for X, Y in tqdm(iter(train_loader)):\n",
        "            X = X.to(device)\n",
        "            Y = Y.to(device)\n",
        "\n",
        "            optimizer.zero_grad()\n",
        "\n",
        "            output = model(X)\n",
        "            loss = criterion(output, Y)\n",
        "\n",
        "            loss.backward()\n",
        "            optimizer.step()\n",
        "\n",
        "            train_loss.append(loss.item())\n",
        "\n",
        "        val_loss = validation(model, val_loader, criterion, device)\n",
        "        print(f'Epoch : [{epoch}] Train Loss : [{np.mean(train_loss):.5f}] Val Loss : [{val_loss:.5f}]')\n",
        "        train_losses.append(np.mean(train_loss))\n",
        "        val_losses.append(val_loss)\n",
        "\n",
        "        if best_loss > val_loss:\n",
        "            best_loss = val_loss\n",
        "            best_model = model\n",
        "            torch.save({\n",
        "                'epoch': epoch,\n",
        "                'model_state_dict': best_model.state_dict(),\n",
        "                'optimizer_state_dict': optimizer.state_dict(),\n",
        "            }, f'epoch{epoch}_model.pth')\n",
        "            print('Model Saved')\n",
        "        elif epoch == CFG['EPOCHS']+last_epoch:\n",
        "            torch.save({\n",
        "                'epoch': epoch,\n",
        "                'model_state_dict': model.state_dict(),\n",
        "                'optimizer_state_dict': optimizer.state_dict(),\n",
        "            }, f'epoch{epoch}_model.pth')\n",
        "            print('last epoch Model Saved')\n",
        "\n",
        "    return best_model, train_losses, val_losses"
      ]
    },
    {
      "cell_type": "code",
      "source": [
        "def validation(model, val_loader, criterion, device):\n",
        "    model.eval()\n",
        "    val_loss = []\n",
        "\n",
        "    with torch.no_grad():\n",
        "        for X, Y in tqdm(iter(val_loader)):\n",
        "            X = X.to(device)\n",
        "            Y = Y.to(device)\n",
        "\n",
        "            output = model(X)\n",
        "            loss = criterion(output, Y)\n",
        "\n",
        "            val_loss.append(loss.item())\n",
        "    return np.mean(val_loss)"
      ],
      "metadata": {
        "id": "VS1XFAdl86Mr"
      },
      "id": "VS1XFAdl86Mr",
      "execution_count": null,
      "outputs": []
    },
    {
      "cell_type": "markdown",
      "source": [
        "### Run"
      ],
      "metadata": {
        "id": "iQsGW9DXBRnP"
      },
      "id": "iQsGW9DXBRnP"
    },
    {
      "cell_type": "markdown",
      "source": [
        "LSTM n_layers2, hs=512, bs=4096\n",
        "- Epoch : [16] Train Loss : [0.01645] Val Loss : [0.01695] **0.5285677486**\n",
        "\n",
        "GRU n_layers=2, hs=256, train_window_size=100, bs=4096\n",
        "- Epoch : [40] Train Loss : [0.01598] Val Loss : [0.01564] **best - 0.5441720878**\n",
        "- Epoch : [60] Train Loss : [0.01490] Val Loss : [0.01460]\n",
        "\n",
        "GRU n_layers=2, hs=256, train_window_size=90, linear, batchnorm1d 추가, dropout p=0.2로 변경, bs=1024\n",
        "- Epoch : [30] Train Loss : [0.01454] Val Loss : [0.01429] **0.5317649514**\n",
        "- Epoch : [40] Train Loss : [0.01336] Val Loss : [0.01300]"
      ],
      "metadata": {
        "id": "yrbjdeJfMEvB"
      },
      "id": "yrbjdeJfMEvB"
    },
    {
      "cell_type": "code",
      "source": [
        "# ===== model & optimizer =====\n",
        "# model = LSTM_Model(num_layers=2)\n",
        "model = GRU_Model(num_layers=2)\n",
        "optimizer = torch.optim.Adam(params = model.parameters(), lr = CFG[\"LEARNING_RATE\"])\n",
        "\n",
        "# ===== train =====\n",
        "infer_model, train_losses, val_losses = train(model, optimizer, dataset, device)"
      ],
      "metadata": {
        "id": "wHWe6vAZ0FGj"
      },
      "id": "wHWe6vAZ0FGj",
      "execution_count": null,
      "outputs": []
    },
    {
      "cell_type": "code",
      "source": [
        "import matplotlib.pyplot as plt\n",
        "\n",
        "plt.figure(figsize=(13,5))\n",
        "plt.title('train & validation loss')\n",
        "plt.plot(train_losses, color='b', alpha=0.5)\n",
        "plt.plot(val_losses, color='g', alpha=0.5)\n",
        "plt.show()"
      ],
      "metadata": {
        "id": "CPjqcUq4OSmQ"
      },
      "id": "CPjqcUq4OSmQ",
      "execution_count": null,
      "outputs": []
    },
    {
      "cell_type": "markdown",
      "id": "36b20af7-f5b1-4a7a-8eb9-7dde5bbf3d04",
      "metadata": {
        "id": "36b20af7-f5b1-4a7a-8eb9-7dde5bbf3d04"
      },
      "source": [
        "### Inference"
      ]
    },
    {
      "cell_type": "code",
      "execution_count": null,
      "id": "214f30d4-2b19-479f-89b7-bf5bb2adc111",
      "metadata": {
        "id": "214f30d4-2b19-479f-89b7-bf5bb2adc111"
      },
      "outputs": [],
      "source": [
        "def inference(model, test_loader, device):\n",
        "    predictions = []\n",
        "\n",
        "    with torch.no_grad():\n",
        "        for X in tqdm(iter(test_loader)):\n",
        "            X = X.to(device)\n",
        "\n",
        "            output = model(X)\n",
        "\n",
        "            # 모델 출력인 output을 CPU로 이동하고 numpy 배열로 변환\n",
        "            output = output.cpu().numpy()\n",
        "\n",
        "            predictions.extend(output)\n",
        "\n",
        "    return np.array(predictions)"
      ]
    },
    {
      "cell_type": "code",
      "source": [
        "def inverse_scaling(pred, t=CFG['data_scaling']):\n",
        "    for idx in range(len(pred)):\n",
        "        if t == \"minmax\":\n",
        "            pred[idx, :] = pred[idx, :] * (scale_dict2[idx] - scale_dict1[idx]) + scale_dict1[idx]\n",
        "        elif t == \"std\":\n",
        "            pred[idx, :] = pred[idx, :] * scale_dict2[idx] + scale_dict1[idx]\n",
        "\n",
        "    return pred"
      ],
      "metadata": {
        "id": "3G04lX4ASEj5"
      },
      "id": "3G04lX4ASEj5",
      "execution_count": null,
      "outputs": []
    },
    {
      "cell_type": "code",
      "source": [
        "test_dataset = CustomDataset(test_input, None)\n",
        "test_loader = DataLoader(test_dataset, batch_size = CFG['BATCH_SIZE'], shuffle=False, num_workers=0)\n",
        "\n",
        "pred = inference(infer_model, test_loader, device)\n",
        "\n",
        "# 추론 결과를 inverse scaling\n",
        "pred = inverse_scaling(pred)\n",
        "\n",
        "# 결과 후처리\n",
        "pred = np.round(pred, 0).astype(int)\n",
        "\n",
        "# 결과 저장\n",
        "submit = pd.read_csv('sample_submission.csv')\n",
        "submit.iloc[:,1:] = pred\n",
        "submit.to_csv('baseline_submit.csv', index=False)"
      ],
      "metadata": {
        "id": "5PkpVWyDR784"
      },
      "id": "5PkpVWyDR784",
      "execution_count": null,
      "outputs": []
    },
    {
      "cell_type": "markdown",
      "source": [
        "## load_state_dict"
      ],
      "metadata": {
        "id": "DYOeKZN2_N75"
      },
      "id": "DYOeKZN2_N75"
    },
    {
      "cell_type": "code",
      "source": [
        "# 저장된 모델 불러오기\n",
        "checkpoint = torch.load('epoch30_model.pth')\n",
        "model = GRU_Model(num_layers=2).to(device)\n",
        "model.load_state_dict(checkpoint['model_state_dict'])\n",
        "optimizer = torch.optim.Adam(params = model.parameters(), lr = CFG[\"LEARNING_RATE\"])\n",
        "optimizer.load_state_dict(checkpoint['optimizer_state_dict'])\n",
        "for state in optimizer.state.values():\n",
        "    for k, v in state.items():\n",
        "        if torch.is_tensor(v):\n",
        "            state[k] = v.to(device)\n",
        "last_epoch = checkpoint['epoch']"
      ],
      "metadata": {
        "id": "a5-XQm2kT_pE"
      },
      "id": "a5-XQm2kT_pE",
      "execution_count": null,
      "outputs": []
    },
    {
      "cell_type": "code",
      "source": [
        "# ===== 추가 학습 =====\n",
        "infer_model, train_losses, val_losses = train(model, optimizer, dataset, device, last_epoch=last_epoch)"
      ],
      "metadata": {
        "id": "RWi91yzNUDNJ"
      },
      "id": "RWi91yzNUDNJ",
      "execution_count": null,
      "outputs": []
    },
    {
      "cell_type": "code",
      "source": [
        "test_dataset = CustomDataset(test_input, None)\n",
        "test_loader = DataLoader(test_dataset, batch_size = CFG['BATCH_SIZE'], shuffle=False, num_workers=0)\n",
        "\n",
        "pred = inference(infer_model, test_loader, device)\n",
        "\n",
        "# 추론 결과를 inverse scaling\n",
        "pred = inverse_scaling(pred)\n",
        "\n",
        "# 결과 후처리\n",
        "pred = np.round(pred, 0).astype(int)\n",
        "\n",
        "# 결과 저장\n",
        "submit = pd.read_csv('sample_submission.csv')\n",
        "submit.iloc[:,1:] = pred\n",
        "submit.to_csv('GRU_nlayers2_hs256.csv', index=False)"
      ],
      "metadata": {
        "id": "ayE7o6hcUK8v"
      },
      "id": "ayE7o6hcUK8v",
      "execution_count": null,
      "outputs": []
    },
    {
      "cell_type": "markdown",
      "source": [
        "# PSFA"
      ],
      "metadata": {
        "id": "NH9hs4dCph6m"
      },
      "id": "NH9hs4dCph6m"
    },
    {
      "cell_type": "code",
      "source": [
        "indexs_bigcat={}\n",
        "for bigcat in train_data['대분류'].unique():\n",
        "    indexs_bigcat[bigcat] = list(train_data.loc[train_data['대분류']==bigcat].index)\n",
        "\n",
        "indexs_bigcat.keys()"
      ],
      "metadata": {
        "colab": {
          "base_uri": "https://localhost:8080/"
        },
        "id": "YxtcXDCWobn1",
        "outputId": "632ca01a-7b27-488b-bed2-07a3e71c92c6"
      },
      "id": "YxtcXDCWobn1",
      "execution_count": null,
      "outputs": [
        {
          "output_type": "execute_result",
          "data": {
            "text/plain": [
              "dict_keys([1.0, 0.0114, 0.40577, 0.05596, 0.0])"
            ]
          },
          "metadata": {},
          "execution_count": 46
        }
      ]
    },
    {
      "cell_type": "code",
      "source": [
        "def PSFA(pred, target):\n",
        "    PSFA = 1\n",
        "    for cat in range(5):\n",
        "        ids = indexs_bigcat[cat]\n",
        "        for day in range(21):\n",
        "            total_sell = np.sum(target[ids, day]) # day별 총 판매량\n",
        "            pred_values = pred[ids, day] # day별 예측 판매량\n",
        "            target_values = target[ids, day] # day별 실제 판매량\n",
        "\n",
        "            # 실제 판매와 예측 판매가 같은 경우 오차가 없는 것으로 간주\n",
        "            denominator = np.maximum(target_values, pred_values)\n",
        "            diffs = np.where(denominator!=0, np.abs(target_values - pred_values) / denominator, 0)\n",
        "\n",
        "            if total_sell != 0:\n",
        "                sell_weights = target_values / total_sell  # Item별 day 총 판매량 내 비중\n",
        "            else:\n",
        "                sell_weights = np.ones_like(target_values) / len(ids)  # 1 / len(ids)로 대체\n",
        "\n",
        "            if not np.isnan(diffs).any():  # diffs에 NaN이 없는 경우에만 PSFA 값 업데이트\n",
        "                PSFA -= np.sum(diffs * sell_weights) / (21 * 5)\n",
        "\n",
        "\n",
        "    return PSFA"
      ],
      "metadata": {
        "id": "6cmC4pJ0odi8"
      },
      "id": "6cmC4pJ0odi8",
      "execution_count": null,
      "outputs": []
    },
    {
      "cell_type": "code",
      "source": [
        "def psfa_validation(model, dataset, epoch, device):\n",
        "    pred = []\n",
        "    target = []\n",
        "    data_loader = DataLoader(dataset, batch_size=CFG['BATCH_SIZE'], shuffle=False)\n",
        "\n",
        "    with torch.no_grad():\n",
        "        for X, Y in tqdm(iter(val_loader)):\n",
        "            X = X.to(device)\n",
        "            Y = Y.to(device)\n",
        "\n",
        "            Y = Y.cpu().numpy()\n",
        "            target.extend(Y)\n",
        "\n",
        "            output = model(X)\n",
        "            output = output.cpu().numpy()\n",
        "            pred.extend(output)\n",
        "\n",
        "    pred = np.array(pred)\n",
        "    target = np.array(target)\n",
        "\n",
        "\n",
        "    # 추론 결과를 inverse scaling\n",
        "    pred = inverse_scaling(pred)\n",
        "    target = inverse_scaling(target)\n",
        "\n",
        "    # 결과 후처리\n",
        "    pred = np.round(pred, 0).astype(int)\n",
        "    target = np.round(target, 0).astype(int)\n",
        "\n",
        "    return PSFA(pred, target)"
      ],
      "metadata": {
        "id": "iQXBPwFvoffX"
      },
      "id": "iQXBPwFvoffX",
      "execution_count": null,
      "outputs": []
    },
    {
      "cell_type": "code",
      "source": [
        "model_path = '/content/drive/MyDrive/checkpoint/GRU_nlayers2_hs256_bs4096/0.5441720878/epoch40_model.pth'\n",
        "checkpoint = torch.load(model_path)\n",
        "model_ = GRU_Model(num_layers=2).to(device)\n",
        "model_.load_state_dict(checkpoint['model_state_dict'])\n",
        "optimizer_ = torch.optim.Adam(params = model_.parameters(), lr = CFG[\"LEARNING_RATE\"])\n",
        "optimizer_.load_state_dict(checkpoint['optimizer_state_dict'])\n",
        "for state in optimizer_.state.values():\n",
        "    for k, v in state.items():\n",
        "        if torch.is_tensor(v):\n",
        "            state[k] = v.to(device)\n",
        "epoch = checkpoint['epoch']\n",
        "\n",
        "score = psfa_validation(model, dataset, epoch, device)\n",
        "print(score)"
      ],
      "metadata": {
        "colab": {
          "base_uri": "https://localhost:8080/",
          "height": 421,
          "referenced_widgets": [
            "90729904af154b3886476b580f090234",
            "6246b4ac76864021b87fcd8875525869",
            "2389c07d1eff4cd794242cd1615172ae",
            "e661004b4ec44cfab2570fc629397672",
            "157e91b62cb644d5a6639324d2f0e7d8",
            "6944aa201b304a52bfb6da90234c6e66",
            "297a17fc08de45efa5aca7f6f97cc5b6",
            "e6e856dab029440d8ea33f21ee1861c6",
            "994e5c093ede45de95ce1e20c4ce2102",
            "03eeb5b0b0044736a7a61f0bb5add044",
            "0df3dc85f0a84355b13e624677819dd5"
          ]
        },
        "id": "-3IBriL0qjp0",
        "outputId": "f3814808-725e-4108-c0a4-2e36ec6eb18e"
      },
      "id": "-3IBriL0qjp0",
      "execution_count": null,
      "outputs": [
        {
          "output_type": "display_data",
          "data": {
            "text/plain": [
              "  0%|          | 0/264 [00:00<?, ?it/s]"
            ],
            "application/vnd.jupyter.widget-view+json": {
              "version_major": 2,
              "version_minor": 0,
              "model_id": "90729904af154b3886476b580f090234"
            }
          },
          "metadata": {}
        },
        {
          "output_type": "stream",
          "name": "stdout",
          "text": [
            "1077342\n"
          ]
        },
        {
          "output_type": "error",
          "ename": "KeyError",
          "evalue": "ignored",
          "traceback": [
            "\u001b[0;31m---------------------------------------------------------------------------\u001b[0m",
            "\u001b[0;31mKeyError\u001b[0m                                  Traceback (most recent call last)",
            "\u001b[0;32m<ipython-input-75-dddebb10d201>\u001b[0m in \u001b[0;36m<cell line: 13>\u001b[0;34m()\u001b[0m\n\u001b[1;32m     11\u001b[0m \u001b[0;31m# epoch = checkpoint['epoch']\u001b[0m\u001b[0;34m\u001b[0m\u001b[0;34m\u001b[0m\u001b[0m\n\u001b[1;32m     12\u001b[0m \u001b[0;34m\u001b[0m\u001b[0m\n\u001b[0;32m---> 13\u001b[0;31m \u001b[0mscore\u001b[0m \u001b[0;34m=\u001b[0m \u001b[0mpsfa_validation\u001b[0m\u001b[0;34m(\u001b[0m\u001b[0mmodel\u001b[0m\u001b[0;34m,\u001b[0m \u001b[0mdataset\u001b[0m\u001b[0;34m,\u001b[0m \u001b[0mepoch\u001b[0m\u001b[0;34m,\u001b[0m \u001b[0mdevice\u001b[0m\u001b[0;34m)\u001b[0m\u001b[0;34m\u001b[0m\u001b[0;34m\u001b[0m\u001b[0m\n\u001b[0m\u001b[1;32m     14\u001b[0m \u001b[0mprint\u001b[0m\u001b[0;34m(\u001b[0m\u001b[0mscore\u001b[0m\u001b[0;34m)\u001b[0m\u001b[0;34m\u001b[0m\u001b[0;34m\u001b[0m\u001b[0m\n",
            "\u001b[0;32m<ipython-input-69-34cc817dce4d>\u001b[0m in \u001b[0;36mpsfa_validation\u001b[0;34m(model, dataset, epoch, device)\u001b[0m\n\u001b[1;32m     27\u001b[0m \u001b[0;34m\u001b[0m\u001b[0m\n\u001b[1;32m     28\u001b[0m     \u001b[0;31m# 추론 결과를 inverse scaling\u001b[0m\u001b[0;34m\u001b[0m\u001b[0;34m\u001b[0m\u001b[0m\n\u001b[0;32m---> 29\u001b[0;31m     \u001b[0mpred\u001b[0m \u001b[0;34m=\u001b[0m \u001b[0minverse_scaling\u001b[0m\u001b[0;34m(\u001b[0m\u001b[0mpred\u001b[0m\u001b[0;34m)\u001b[0m\u001b[0;34m\u001b[0m\u001b[0;34m\u001b[0m\u001b[0m\n\u001b[0m\u001b[1;32m     30\u001b[0m     \u001b[0mtarget\u001b[0m \u001b[0;34m=\u001b[0m \u001b[0minverse_scaling\u001b[0m\u001b[0;34m(\u001b[0m\u001b[0mtarget\u001b[0m\u001b[0;34m)\u001b[0m\u001b[0;34m\u001b[0m\u001b[0;34m\u001b[0m\u001b[0m\n\u001b[1;32m     31\u001b[0m \u001b[0;34m\u001b[0m\u001b[0m\n",
            "\u001b[0;32m<ipython-input-74-791a525e5237>\u001b[0m in \u001b[0;36minverse_scaling\u001b[0;34m(pred, t)\u001b[0m\n\u001b[1;32m      3\u001b[0m     \u001b[0;32mfor\u001b[0m \u001b[0midx\u001b[0m \u001b[0;32min\u001b[0m \u001b[0mrange\u001b[0m\u001b[0;34m(\u001b[0m\u001b[0mlen\u001b[0m\u001b[0;34m(\u001b[0m\u001b[0mpred\u001b[0m\u001b[0;34m)\u001b[0m\u001b[0;34m)\u001b[0m\u001b[0;34m:\u001b[0m\u001b[0;34m\u001b[0m\u001b[0;34m\u001b[0m\u001b[0m\n\u001b[1;32m      4\u001b[0m         \u001b[0;32mif\u001b[0m \u001b[0mt\u001b[0m \u001b[0;34m==\u001b[0m \u001b[0;34m\"minmax\"\u001b[0m\u001b[0;34m:\u001b[0m\u001b[0;34m\u001b[0m\u001b[0;34m\u001b[0m\u001b[0m\n\u001b[0;32m----> 5\u001b[0;31m             \u001b[0mpred\u001b[0m\u001b[0;34m[\u001b[0m\u001b[0midx\u001b[0m\u001b[0;34m,\u001b[0m \u001b[0;34m:\u001b[0m\u001b[0;34m]\u001b[0m \u001b[0;34m=\u001b[0m \u001b[0mpred\u001b[0m\u001b[0;34m[\u001b[0m\u001b[0midx\u001b[0m\u001b[0;34m,\u001b[0m \u001b[0;34m:\u001b[0m\u001b[0;34m]\u001b[0m \u001b[0;34m*\u001b[0m \u001b[0;34m(\u001b[0m\u001b[0mscale_dict2\u001b[0m\u001b[0;34m[\u001b[0m\u001b[0midx\u001b[0m\u001b[0;34m]\u001b[0m \u001b[0;34m-\u001b[0m \u001b[0mscale_dict1\u001b[0m\u001b[0;34m[\u001b[0m\u001b[0midx\u001b[0m\u001b[0;34m]\u001b[0m\u001b[0;34m)\u001b[0m \u001b[0;34m+\u001b[0m \u001b[0mscale_dict1\u001b[0m\u001b[0;34m[\u001b[0m\u001b[0midx\u001b[0m\u001b[0;34m]\u001b[0m\u001b[0;34m\u001b[0m\u001b[0;34m\u001b[0m\u001b[0m\n\u001b[0m\u001b[1;32m      6\u001b[0m         \u001b[0;32melif\u001b[0m \u001b[0mt\u001b[0m \u001b[0;34m==\u001b[0m \u001b[0;34m\"std\"\u001b[0m\u001b[0;34m:\u001b[0m\u001b[0;34m\u001b[0m\u001b[0;34m\u001b[0m\u001b[0m\n\u001b[1;32m      7\u001b[0m             \u001b[0mpred\u001b[0m\u001b[0;34m[\u001b[0m\u001b[0midx\u001b[0m\u001b[0;34m,\u001b[0m \u001b[0;34m:\u001b[0m\u001b[0;34m]\u001b[0m \u001b[0;34m=\u001b[0m \u001b[0mpred\u001b[0m\u001b[0;34m[\u001b[0m\u001b[0midx\u001b[0m\u001b[0;34m,\u001b[0m \u001b[0;34m:\u001b[0m\u001b[0;34m]\u001b[0m \u001b[0;34m*\u001b[0m \u001b[0mscale_dict2\u001b[0m\u001b[0;34m[\u001b[0m\u001b[0midx\u001b[0m\u001b[0;34m]\u001b[0m \u001b[0;34m+\u001b[0m \u001b[0mscale_dict1\u001b[0m\u001b[0;34m[\u001b[0m\u001b[0midx\u001b[0m\u001b[0;34m]\u001b[0m\u001b[0;34m\u001b[0m\u001b[0;34m\u001b[0m\u001b[0m\n",
            "\u001b[0;31mKeyError\u001b[0m: 15890"
          ]
        }
      ]
    }
  ],
  "metadata": {
    "kernelspec": {
      "display_name": "Python 3",
      "name": "python3"
    },
    "language_info": {
      "codemirror_mode": {
        "name": "ipython",
        "version": 3
      },
      "file_extension": ".py",
      "mimetype": "text/x-python",
      "name": "python",
      "nbconvert_exporter": "python",
      "pygments_lexer": "ipython3",
      "version": "3.8.10"
    },
    "colab": {
      "provenance": [],
      "gpuType": "V100",
      "collapsed_sections": [
        "NH9hs4dCph6m"
      ],
      "machine_shape": "hm"
    },
    "widgets": {
      "application/vnd.jupyter.widget-state+json": {
        "90729904af154b3886476b580f090234": {
          "model_module": "@jupyter-widgets/controls",
          "model_name": "HBoxModel",
          "model_module_version": "1.5.0",
          "state": {
            "_dom_classes": [],
            "_model_module": "@jupyter-widgets/controls",
            "_model_module_version": "1.5.0",
            "_model_name": "HBoxModel",
            "_view_count": null,
            "_view_module": "@jupyter-widgets/controls",
            "_view_module_version": "1.5.0",
            "_view_name": "HBoxView",
            "box_style": "",
            "children": [
              "IPY_MODEL_6246b4ac76864021b87fcd8875525869",
              "IPY_MODEL_2389c07d1eff4cd794242cd1615172ae",
              "IPY_MODEL_e661004b4ec44cfab2570fc629397672"
            ],
            "layout": "IPY_MODEL_157e91b62cb644d5a6639324d2f0e7d8"
          }
        },
        "6246b4ac76864021b87fcd8875525869": {
          "model_module": "@jupyter-widgets/controls",
          "model_name": "HTMLModel",
          "model_module_version": "1.5.0",
          "state": {
            "_dom_classes": [],
            "_model_module": "@jupyter-widgets/controls",
            "_model_module_version": "1.5.0",
            "_model_name": "HTMLModel",
            "_view_count": null,
            "_view_module": "@jupyter-widgets/controls",
            "_view_module_version": "1.5.0",
            "_view_name": "HTMLView",
            "description": "",
            "description_tooltip": null,
            "layout": "IPY_MODEL_6944aa201b304a52bfb6da90234c6e66",
            "placeholder": "​",
            "style": "IPY_MODEL_297a17fc08de45efa5aca7f6f97cc5b6",
            "value": "100%"
          }
        },
        "2389c07d1eff4cd794242cd1615172ae": {
          "model_module": "@jupyter-widgets/controls",
          "model_name": "FloatProgressModel",
          "model_module_version": "1.5.0",
          "state": {
            "_dom_classes": [],
            "_model_module": "@jupyter-widgets/controls",
            "_model_module_version": "1.5.0",
            "_model_name": "FloatProgressModel",
            "_view_count": null,
            "_view_module": "@jupyter-widgets/controls",
            "_view_module_version": "1.5.0",
            "_view_name": "ProgressView",
            "bar_style": "success",
            "description": "",
            "description_tooltip": null,
            "layout": "IPY_MODEL_e6e856dab029440d8ea33f21ee1861c6",
            "max": 264,
            "min": 0,
            "orientation": "horizontal",
            "style": "IPY_MODEL_994e5c093ede45de95ce1e20c4ce2102",
            "value": 264
          }
        },
        "e661004b4ec44cfab2570fc629397672": {
          "model_module": "@jupyter-widgets/controls",
          "model_name": "HTMLModel",
          "model_module_version": "1.5.0",
          "state": {
            "_dom_classes": [],
            "_model_module": "@jupyter-widgets/controls",
            "_model_module_version": "1.5.0",
            "_model_name": "HTMLModel",
            "_view_count": null,
            "_view_module": "@jupyter-widgets/controls",
            "_view_module_version": "1.5.0",
            "_view_name": "HTMLView",
            "description": "",
            "description_tooltip": null,
            "layout": "IPY_MODEL_03eeb5b0b0044736a7a61f0bb5add044",
            "placeholder": "​",
            "style": "IPY_MODEL_0df3dc85f0a84355b13e624677819dd5",
            "value": " 264/264 [00:43&lt;00:00,  6.56it/s]"
          }
        },
        "157e91b62cb644d5a6639324d2f0e7d8": {
          "model_module": "@jupyter-widgets/base",
          "model_name": "LayoutModel",
          "model_module_version": "1.2.0",
          "state": {
            "_model_module": "@jupyter-widgets/base",
            "_model_module_version": "1.2.0",
            "_model_name": "LayoutModel",
            "_view_count": null,
            "_view_module": "@jupyter-widgets/base",
            "_view_module_version": "1.2.0",
            "_view_name": "LayoutView",
            "align_content": null,
            "align_items": null,
            "align_self": null,
            "border": null,
            "bottom": null,
            "display": null,
            "flex": null,
            "flex_flow": null,
            "grid_area": null,
            "grid_auto_columns": null,
            "grid_auto_flow": null,
            "grid_auto_rows": null,
            "grid_column": null,
            "grid_gap": null,
            "grid_row": null,
            "grid_template_areas": null,
            "grid_template_columns": null,
            "grid_template_rows": null,
            "height": null,
            "justify_content": null,
            "justify_items": null,
            "left": null,
            "margin": null,
            "max_height": null,
            "max_width": null,
            "min_height": null,
            "min_width": null,
            "object_fit": null,
            "object_position": null,
            "order": null,
            "overflow": null,
            "overflow_x": null,
            "overflow_y": null,
            "padding": null,
            "right": null,
            "top": null,
            "visibility": null,
            "width": null
          }
        },
        "6944aa201b304a52bfb6da90234c6e66": {
          "model_module": "@jupyter-widgets/base",
          "model_name": "LayoutModel",
          "model_module_version": "1.2.0",
          "state": {
            "_model_module": "@jupyter-widgets/base",
            "_model_module_version": "1.2.0",
            "_model_name": "LayoutModel",
            "_view_count": null,
            "_view_module": "@jupyter-widgets/base",
            "_view_module_version": "1.2.0",
            "_view_name": "LayoutView",
            "align_content": null,
            "align_items": null,
            "align_self": null,
            "border": null,
            "bottom": null,
            "display": null,
            "flex": null,
            "flex_flow": null,
            "grid_area": null,
            "grid_auto_columns": null,
            "grid_auto_flow": null,
            "grid_auto_rows": null,
            "grid_column": null,
            "grid_gap": null,
            "grid_row": null,
            "grid_template_areas": null,
            "grid_template_columns": null,
            "grid_template_rows": null,
            "height": null,
            "justify_content": null,
            "justify_items": null,
            "left": null,
            "margin": null,
            "max_height": null,
            "max_width": null,
            "min_height": null,
            "min_width": null,
            "object_fit": null,
            "object_position": null,
            "order": null,
            "overflow": null,
            "overflow_x": null,
            "overflow_y": null,
            "padding": null,
            "right": null,
            "top": null,
            "visibility": null,
            "width": null
          }
        },
        "297a17fc08de45efa5aca7f6f97cc5b6": {
          "model_module": "@jupyter-widgets/controls",
          "model_name": "DescriptionStyleModel",
          "model_module_version": "1.5.0",
          "state": {
            "_model_module": "@jupyter-widgets/controls",
            "_model_module_version": "1.5.0",
            "_model_name": "DescriptionStyleModel",
            "_view_count": null,
            "_view_module": "@jupyter-widgets/base",
            "_view_module_version": "1.2.0",
            "_view_name": "StyleView",
            "description_width": ""
          }
        },
        "e6e856dab029440d8ea33f21ee1861c6": {
          "model_module": "@jupyter-widgets/base",
          "model_name": "LayoutModel",
          "model_module_version": "1.2.0",
          "state": {
            "_model_module": "@jupyter-widgets/base",
            "_model_module_version": "1.2.0",
            "_model_name": "LayoutModel",
            "_view_count": null,
            "_view_module": "@jupyter-widgets/base",
            "_view_module_version": "1.2.0",
            "_view_name": "LayoutView",
            "align_content": null,
            "align_items": null,
            "align_self": null,
            "border": null,
            "bottom": null,
            "display": null,
            "flex": null,
            "flex_flow": null,
            "grid_area": null,
            "grid_auto_columns": null,
            "grid_auto_flow": null,
            "grid_auto_rows": null,
            "grid_column": null,
            "grid_gap": null,
            "grid_row": null,
            "grid_template_areas": null,
            "grid_template_columns": null,
            "grid_template_rows": null,
            "height": null,
            "justify_content": null,
            "justify_items": null,
            "left": null,
            "margin": null,
            "max_height": null,
            "max_width": null,
            "min_height": null,
            "min_width": null,
            "object_fit": null,
            "object_position": null,
            "order": null,
            "overflow": null,
            "overflow_x": null,
            "overflow_y": null,
            "padding": null,
            "right": null,
            "top": null,
            "visibility": null,
            "width": null
          }
        },
        "994e5c093ede45de95ce1e20c4ce2102": {
          "model_module": "@jupyter-widgets/controls",
          "model_name": "ProgressStyleModel",
          "model_module_version": "1.5.0",
          "state": {
            "_model_module": "@jupyter-widgets/controls",
            "_model_module_version": "1.5.0",
            "_model_name": "ProgressStyleModel",
            "_view_count": null,
            "_view_module": "@jupyter-widgets/base",
            "_view_module_version": "1.2.0",
            "_view_name": "StyleView",
            "bar_color": null,
            "description_width": ""
          }
        },
        "03eeb5b0b0044736a7a61f0bb5add044": {
          "model_module": "@jupyter-widgets/base",
          "model_name": "LayoutModel",
          "model_module_version": "1.2.0",
          "state": {
            "_model_module": "@jupyter-widgets/base",
            "_model_module_version": "1.2.0",
            "_model_name": "LayoutModel",
            "_view_count": null,
            "_view_module": "@jupyter-widgets/base",
            "_view_module_version": "1.2.0",
            "_view_name": "LayoutView",
            "align_content": null,
            "align_items": null,
            "align_self": null,
            "border": null,
            "bottom": null,
            "display": null,
            "flex": null,
            "flex_flow": null,
            "grid_area": null,
            "grid_auto_columns": null,
            "grid_auto_flow": null,
            "grid_auto_rows": null,
            "grid_column": null,
            "grid_gap": null,
            "grid_row": null,
            "grid_template_areas": null,
            "grid_template_columns": null,
            "grid_template_rows": null,
            "height": null,
            "justify_content": null,
            "justify_items": null,
            "left": null,
            "margin": null,
            "max_height": null,
            "max_width": null,
            "min_height": null,
            "min_width": null,
            "object_fit": null,
            "object_position": null,
            "order": null,
            "overflow": null,
            "overflow_x": null,
            "overflow_y": null,
            "padding": null,
            "right": null,
            "top": null,
            "visibility": null,
            "width": null
          }
        },
        "0df3dc85f0a84355b13e624677819dd5": {
          "model_module": "@jupyter-widgets/controls",
          "model_name": "DescriptionStyleModel",
          "model_module_version": "1.5.0",
          "state": {
            "_model_module": "@jupyter-widgets/controls",
            "_model_module_version": "1.5.0",
            "_model_name": "DescriptionStyleModel",
            "_view_count": null,
            "_view_module": "@jupyter-widgets/base",
            "_view_module_version": "1.2.0",
            "_view_name": "StyleView",
            "description_width": ""
          }
        }
      }
    },
    "accelerator": "GPU"
  },
  "nbformat": 4,
  "nbformat_minor": 5
}